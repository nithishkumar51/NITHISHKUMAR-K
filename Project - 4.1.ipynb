{
 "cells": [
  {
   "cell_type": "markdown",
   "id": "3b831a73-86d2-42c6-88f3-5e349a1bc2fb",
   "metadata": {},
   "source": [
    "<h2>IMDB Review Classification using RNN - LSTM</h2>"
   ]
  },
  {
   "cell_type": "code",
   "execution_count": 2,
   "id": "d58ee960-5af7-492d-be46-63951fe18ec6",
   "metadata": {},
   "outputs": [],
   "source": [
    "#!pip install tensorflow-gpu"
   ]
  },
  {
   "cell_type": "code",
   "execution_count": 3,
   "id": "90c4f2cd-a7e4-4ea9-9a89-1782b391a1a2",
   "metadata": {},
   "outputs": [],
   "source": [
    "#!pip install tensorflow-datasets"
   ]
  },
  {
   "cell_type": "code",
   "execution_count": 4,
   "id": "4071f5fa-0867-41fc-aa9b-b126f23fec58",
   "metadata": {},
   "outputs": [],
   "source": [
    "#import the required librarys\n",
    "import numpy as np\n",
    "import tensorflow as tf\n",
    "import tensorflow_datasets as tfds\n",
    "from tensorflow.keras.layers import TextVectorization, Embedding, LSTM, Dense\n",
    "from tensorflow.keras import Sequential"
   ]
  },
  {
   "cell_type": "code",
   "execution_count": 5,
   "id": "4e7f384e-9be0-4dcf-a97b-67f440aab1c4",
   "metadata": {},
   "outputs": [],
   "source": [
    "# Load the IMDB dataset\n",
    "dataset, info = tfds.load(\"imdb_reviews\", as_supervised = \"train\", with_info = True)\n",
    "train_data, test_data = dataset['train'],dataset['test']"
   ]
  },
  {
   "cell_type": "code",
   "execution_count": 6,
   "id": "c2ed4d92-397e-4818-acac-18b990244a14",
   "metadata": {},
   "outputs": [],
   "source": [
    "# Shuffle the data and create batches\n",
    "BUFFER_SIZE = 10000\n",
    "BATCH_SIZE = 64"
   ]
  },
  {
   "cell_type": "code",
   "execution_count": 7,
   "id": "b245ba0b-b81b-4fba-b3f1-3c9537ca9dcc",
   "metadata": {},
   "outputs": [],
   "source": [
    "train_data = train_data.shuffle(BUFFER_SIZE).batch(BATCH_SIZE).prefetch(tf.data.AUTOTUNE)\n",
    "test_data = test_data.batch(BATCH_SIZE).prefetch(tf.data.AUTOTUNE)"
   ]
  },
  {
   "cell_type": "code",
   "execution_count": 8,
   "id": "bc2ce2d9-8aec-4266-8de0-888b4ffe9ea4",
   "metadata": {},
   "outputs": [
    {
     "name": "stdout",
     "output_type": "stream",
     "text": [
      "Text batch shape: (64,)\n",
      "Label batch shape: (64,)\n"
     ]
    }
   ],
   "source": [
    "for text, label in train_data.take(1):\n",
    "    print(f\"Text batch shape: {text.shape}\")\n",
    "    print(f\"Label batch shape: {label.shape}\")"
   ]
  },
  {
   "cell_type": "code",
   "execution_count": 9,
   "id": "81f8aae0-dbc9-495f-b936-883c6039dfa3",
   "metadata": {},
   "outputs": [],
   "source": [
    "# Encode the text data using TextVectorization\n",
    "MAX_VOCAB_SIZE = 10000\n",
    "SEQUENCE_LENGTH = 100"
   ]
  },
  {
   "cell_type": "code",
   "execution_count": 10,
   "id": "920f2638-ac92-4d02-8f45-350929d5557f",
   "metadata": {},
   "outputs": [],
   "source": [
    "vectorizer = TextVectorization(max_tokens=MAX_VOCAB_SIZE, output_sequence_length=SEQUENCE_LENGTH)"
   ]
  },
  {
   "cell_type": "code",
   "execution_count": 11,
   "id": "e2588d0e-69d5-4bb8-89c2-28cb064d7f27",
   "metadata": {},
   "outputs": [],
   "source": [
    "# Adapt the vectorizer to the training data\n",
    "train_text = train_data.map(lambda x, y: x)\n",
    "vectorizer.adapt(train_text)"
   ]
  },
  {
   "cell_type": "code",
   "execution_count": 12,
   "id": "ec0b8ffe-d586-436d-9487-e8e9900dab12",
   "metadata": {},
   "outputs": [],
   "source": [
    "# Build the sequential model\n",
    "model = Sequential([\n",
    "    vectorizer,  # Text preprocessing layer\n",
    "    Embedding(input_dim=MAX_VOCAB_SIZE, output_dim=64),\n",
    "    LSTM(64),\n",
    "    Dense(64, activation='relu'),\n",
    "    Dense(1, activation='sigmoid')\n",
    "])"
   ]
  },
  {
   "cell_type": "code",
   "execution_count": 13,
   "id": "ae1133c4-3073-4464-9d9e-dfc270589c82",
   "metadata": {},
   "outputs": [],
   "source": [
    "# Compile the model\n",
    "model.compile(optimizer='adam', loss='binary_crossentropy', metrics=['accuracy'])"
   ]
  },
  {
   "cell_type": "code",
   "execution_count": 14,
   "id": "bc162db0-7a0a-4575-97b7-7578de1ca761",
   "metadata": {},
   "outputs": [
    {
     "name": "stdout",
     "output_type": "stream",
     "text": [
      "Epoch 1/5\n",
      "\u001b[1m391/391\u001b[0m \u001b[32m━━━━━━━━━━━━━━━━━━━━\u001b[0m\u001b[37m\u001b[0m \u001b[1m23s\u001b[0m 51ms/step - accuracy: 0.6129 - loss: 0.6328\n",
      "Epoch 2/5\n",
      "\u001b[1m391/391\u001b[0m \u001b[32m━━━━━━━━━━━━━━━━━━━━\u001b[0m\u001b[37m\u001b[0m \u001b[1m23s\u001b[0m 59ms/step - accuracy: 0.8535 - loss: 0.3545\n",
      "Epoch 3/5\n",
      "\u001b[1m391/391\u001b[0m \u001b[32m━━━━━━━━━━━━━━━━━━━━\u001b[0m\u001b[37m\u001b[0m \u001b[1m22s\u001b[0m 57ms/step - accuracy: 0.8933 - loss: 0.2698\n",
      "Epoch 4/5\n",
      "\u001b[1m391/391\u001b[0m \u001b[32m━━━━━━━━━━━━━━━━━━━━\u001b[0m\u001b[37m\u001b[0m \u001b[1m22s\u001b[0m 57ms/step - accuracy: 0.9189 - loss: 0.2151\n",
      "Epoch 5/5\n",
      "\u001b[1m391/391\u001b[0m \u001b[32m━━━━━━━━━━━━━━━━━━━━\u001b[0m\u001b[37m\u001b[0m \u001b[1m22s\u001b[0m 55ms/step - accuracy: 0.9446 - loss: 0.1529\n"
     ]
    },
    {
     "data": {
      "text/plain": [
       "<keras.src.callbacks.history.History at 0x29dfd72f410>"
      ]
     },
     "execution_count": 14,
     "metadata": {},
     "output_type": "execute_result"
    }
   ],
   "source": [
    "#Train the model\n",
    "model.fit(train_data, epochs = 5)"
   ]
  },
  {
   "cell_type": "code",
   "execution_count": 15,
   "id": "808c660a-a589-4c40-bc8b-c14ea6ec5765",
   "metadata": {},
   "outputs": [
    {
     "name": "stdout",
     "output_type": "stream",
     "text": [
      "\u001b[1m391/391\u001b[0m \u001b[32m━━━━━━━━━━━━━━━━━━━━\u001b[0m\u001b[37m\u001b[0m \u001b[1m10s\u001b[0m 26ms/step - accuracy: 0.7977 - loss: 0.7177\n",
      "Test Loss: 0.7181\n",
      "Test Accuracy: 0.7974\n"
     ]
    }
   ],
   "source": [
    "#Test the data and evaluate the model\n",
    "loss, accuracy = model.evaluate(test_data)\n",
    "print(f\"Test Loss: {loss:.4f}\")\n",
    "print(f\"Test Accuracy: {accuracy:.4f}\")"
   ]
  },
  {
   "cell_type": "code",
   "execution_count": 16,
   "id": "57c74c7d-666d-4e5e-aef0-cc8e72b65561",
   "metadata": {},
   "outputs": [],
   "source": [
    "#Predict sentiment for a given sentence\n",
    "def predict_sentiment(sentence):\n",
    "    # Convert the input sentence to a TensorFlow tensor\n",
    "    input_data = tf.constant(sentence)\n",
    "    prediction = model.predict(input_data)[0][0]\n",
    "    sentiment = \"Positive\" if prediction >= 0.5 else \"Negative\"\n",
    "    print(f\"Sentence: {sentence[0]}\")\n",
    "    print(f\"Prediction: {prediction:.4f} ({sentiment})\")\n"
   ]
  },
  {
   "cell_type": "code",
   "execution_count": 17,
   "id": "74b2bb43-abbf-4bf9-a17a-1425ed6c3508",
   "metadata": {},
   "outputs": [
    {
     "name": "stdout",
     "output_type": "stream",
     "text": [
      "\u001b[1m1/1\u001b[0m \u001b[32m━━━━━━━━━━━━━━━━━━━━\u001b[0m\u001b[37m\u001b[0m \u001b[1m0s\u001b[0m 302ms/step\n",
      "Sentence: The movie was absolutely wonderful, full of great performances.\n",
      "Prediction: 0.9227 (Positive)\n",
      "\u001b[1m1/1\u001b[0m \u001b[32m━━━━━━━━━━━━━━━━━━━━\u001b[0m\u001b[37m\u001b[0m \u001b[1m0s\u001b[0m 27ms/step\n",
      "Sentence: The film was boring and too slow for my taste.\n",
      "Prediction: 0.0129 (Negative)\n"
     ]
    }
   ],
   "source": [
    "# Example sentence for prediction\n",
    "test_sentence = [\"The movie was absolutely wonderful, full of great performances.\"]\n",
    "predict_sentiment(test_sentence)\n",
    "\n",
    "test_sentence = [\"The film was boring and too slow for my taste.\"]\n",
    "predict_sentiment(test_sentence)"
   ]
  },
  {
   "cell_type": "code",
   "execution_count": 43,
   "id": "cfa026fc-35fe-463d-86e9-1dfc66fbd601",
   "metadata": {},
   "outputs": [
    {
     "name": "stdout",
     "output_type": "stream",
     "text": [
      "\u001b[1m1/1\u001b[0m \u001b[32m━━━━━━━━━━━━━━━━━━━━\u001b[0m\u001b[37m\u001b[0m \u001b[1m0s\u001b[0m 31ms/step\n"
     ]
    },
    {
     "data": {
      "image/png": "[encoded data removed]",
      "text/plain": [
       "<Figure size 1000x600 with 1 Axes>"
      ]
     },
     "metadata": {},
     "output_type": "display_data"
    }
   ],
   "source": [
    "import matplotlib.pyplot as plt\n",
    "\n",
    "def plot_predictions_with_inputs(sentences):\n",
    "    # Convert sentences into a TensorFlow tensor\n",
    "    input_data = tf.constant(sentences)\n",
    "    predictions = model.predict(input_data).flatten()  # Flatten to a 1D array\n",
    "\n",
    "    # Convert predictions to binary sentiments\n",
    "    sentiments = [\"Positive\" if pred >= 0.5 else \"Negative\" for pred in predictions]\n",
    "\n",
    "    # Truncate sentences for better display\n",
    "    truncated_sentences = [s if len(s) <= 50 else s[:47] + \"...\" for s in sentences]\n",
    "\n",
    "    # Plot the predictions\n",
    "    plt.figure(figsize=(10, 6))\n",
    "    plt.bar(range(len(sentences)), predictions, color=['blue' if pred >= 0.5 else 'red' for pred in predictions])\n",
    "    plt.xticks(range(len(sentences)), [f\"Sentence {i+1}\" for i in range(len(sentences))], rotation=45)\n",
    "    plt.ylim(0, 1)\n",
    "    plt.title(\"Sentiment Predictions\")\n",
    "    plt.xlabel(\"Sentences\")\n",
    "    plt.ylabel(\"Prediction Score (0 = Negative, 1 = Positive)\")\n",
    "\n",
    "\n",
    "    # Annotate predictions on the bars\n",
    "    for i, (score, sentiment) in enumerate(zip(predictions, sentiments)):\n",
    "        plt.text(i, score + 0.02, f\"{score:.2f}\\n{sentiment}\", ha='center', va='bottom')\n",
    "\n",
    "    plt.xticks(rotation=45, ha='right')\n",
    "    plt.tight_layout()\n",
    "    plt.show()\n",
    "\n",
    "# Test with multiple sentences\n",
    "sentences = [\n",
    "    \"The movie was absolutely wonderful, full of great performances.\",\n",
    "    \"The film was boring and too slow for my taste.\",\n",
    "    \"I loved the story and the characters.\",\n",
    "    \"It was a waste of time watching this movie.\",\n",
    "    \"Amazing direction and a thrilling plot!\"\n",
    "]\n",
    "\n",
    "plot_predictions_with_inputs(sentences)\n"
   ]
  },
  {
   "cell_type": "code",
   "execution_count": null,
   "id": "29b9ce81-c8aa-49fc-8f8c-1bba37684232",
   "metadata": {},
   "outputs": [],
   "source": []
  }
 ],
 "metadata": {
  "kernelspec": {
   "display_name": "Python 3 (ipykernel)",
   "language": "python",
   "name": "python3"
  },
  "language_info": {
   "codemirror_mode": {
    "name": "ipython",
    "version": 3
   },
   "file_extension": ".py",
   "mimetype": "text/x-python",
   "name": "python",
   "nbconvert_exporter": "python",
   "pygments_lexer": "ipython3",
   "version": "3.12.4"
  }
 },
 "nbformat": 4,
 "nbformat_minor": 5
}
